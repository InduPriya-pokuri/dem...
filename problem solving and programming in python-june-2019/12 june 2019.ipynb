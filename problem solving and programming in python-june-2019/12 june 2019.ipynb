{
 "cells": [
  {
   "cell_type": "markdown",
   "metadata": {},
   "source": [
    "** string slicing\n"
   ]
  },
  {
   "cell_type": "code",
   "execution_count": 26,
   "metadata": {},
   "outputs": [
    {
     "data": {
      "text/plain": [
       "'python'"
      ]
     },
     "execution_count": 26,
     "metadata": {},
     "output_type": "execute_result"
    }
   ],
   "source": [
    "s1=\"python\"\n",
    "x=len(s1)\n",
    "\n",
    "s1[0] # accessing the first charecter in a string \n",
    "s1[1] # accessing the second charecter in   a string \n",
    "s1[-1] # accessing a last charecter in a string\n",
    "s1[len(s1)-1] # another mothed of accessing last charecter of the string \n",
    "s1[-2]\n",
    "s1[0:1]\n",
    "s1[-2:]\n",
    "s1[0:] # 0: blank means rest of the things \n",
    "s\n",
    "\n"
   ]
  },
  {
   "cell_type": "code",
   "execution_count": 39,
   "metadata": {},
   "outputs": [],
   "source": [
    "s1=\"pythonn\"\n",
    "s1[-2:]\n",
    "s1[4:]\n",
    "s1[1:len(s1)-2]\n",
    "s1[1:len(s1)-1]\n",
    "s1[1:-1]\n",
    "s1[len(s1)//2]\n",
    "if len(s1)//2==0:\n",
    "    s1[(len(s1)//2)-1:len(s1)//2]\n",
    "else:\n",
    "    s1[len(s1)//2]\n",
    "\n"
   ]
  },
  {
   "cell_type": "code",
   "execution_count": 34,
   "metadata": {},
   "outputs": [
    {
     "data": {
      "text/plain": [
       "4.5"
      ]
     },
     "execution_count": 34,
     "metadata": {},
     "output_type": "execute_result"
    }
   ],
   "source": [
    "9/2"
   ]
  },
  {
   "cell_type": "code",
   "execution_count": null,
   "metadata": {},
   "outputs": [],
   "source": []
  }
 ],
 "metadata": {
  "kernelspec": {
   "display_name": "Python 3",
   "language": "python",
   "name": "python3"
  },
  "language_info": {
   "codemirror_mode": {
    "name": "ipython",
    "version": 3
   },
   "file_extension": ".py",
   "mimetype": "text/x-python",
   "name": "python",
   "nbconvert_exporter": "python",
   "pygments_lexer": "ipython3",
   "version": "3.7.3"
  }
 },
 "nbformat": 4,
 "nbformat_minor": 2
}
