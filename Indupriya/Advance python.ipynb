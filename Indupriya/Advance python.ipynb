{
 "cells": [
  {
   "cell_type": "markdown",
   "metadata": {},
   "source": [
    "# Programming and solving in python phase-2\n",
    "\n",
    "## Full Syllabus\n",
    "\n",
    "#### DAY-1\n",
    "\n",
    "* File Handling\n",
    "* File Data Processing\n",
    "* Lists or Dictionary or Tuple comprehension\n",
    "* Iterators and Generators\n",
    "\n",
    "#### DAY-2\n",
    "\n",
    "* Maps\n",
    "* Filters\n",
    "* Lambda\n",
    "* Numpy\n",
    "* Pandas\n",
    "\n",
    "#### Day-3\n",
    "\n",
    "* Pandas\n",
    "* Data Visuvalization using Matplotlib Library\n",
    "* AWS\n",
    "\n",
    "\n",
    "\n"
   ]
  },
  {
   "cell_type": "markdown",
   "metadata": {},
   "source": [
    "##  File Handling\n",
    "\n",
    "* A file is a named location on desk to store relative information. \n",
    "* File handling allows users to handle files i.e., to read and write files, along with many other file handling options, to work on files. \n",
    "* Compared to other programming languages handling the files is very easy in Python. \n",
    "\n",
    "#### Steps in file Handling:\n",
    "* Open() a file \n",
    "* Doing the operations .....\n",
    "    * read or r  \n",
    "    * write or w\n",
    "    * append or a\n",
    "* Close() a file \n"
   ]
  },
  {
   "cell_type": "markdown",
   "metadata": {},
   "source": [
    "### read command"
   ]
  },
  {
   "cell_type": "code",
   "execution_count": 2,
   "metadata": {},
   "outputs": [
    {
     "data": {
      "text/plain": [
       "'Good morning to all\\nI am Indupriya From APSSDC\\nThis is the text file\\nAO101701003jsfdsjkjkfjk\\njerfkjekfjkjfierufujr'"
      ]
     },
     "execution_count": 2,
     "metadata": {},
     "output_type": "execute_result"
    }
   ],
   "source": [
    "file=open('demo.txt','r')\n",
    "file.read()"
   ]
  },
  {
   "cell_type": "code",
   "execution_count": 3,
   "metadata": {},
   "outputs": [
    {
     "name": "stdout",
     "output_type": "stream",
     "text": [
      "Good morning to\n"
     ]
    }
   ],
   "source": [
    "file1=open('demo.txt','r')\n",
    "print(file1.read(15))  #print upto 15 characters only"
   ]
  },
  {
   "cell_type": "code",
   "execution_count": 4,
   "metadata": {},
   "outputs": [
    {
     "name": "stdout",
     "output_type": "stream",
     "text": [
      " all\n",
      "\n",
      "I am Indupriya From APSSDC\n",
      "\n",
      "This is the text file\n",
      "\n",
      "AO101701003jsfdsjkjkfjk\n",
      "\n",
      "jerfkjekfjkjfierufujr\n"
     ]
    }
   ],
   "source": [
    "for word in file1:\n",
    "    print(word)  # remaining content will be print here"
   ]
  },
  {
   "cell_type": "markdown",
   "metadata": {},
   "source": [
    "### Write command"
   ]
  },
  {
   "cell_type": "code",
   "execution_count": 5,
   "metadata": {},
   "outputs": [
    {
     "data": {
      "text/plain": [
       "70"
      ]
     },
     "execution_count": 5,
     "metadata": {},
     "output_type": "execute_result"
    }
   ],
   "source": [
    "file1=open('data.txt','w')\n",
    "file1.write(\"This is the write command .... and this is overwrite for previous data\")  \n",
    "# here data will over write in demo.txt file check that file\n",
    "# here new file is created as a name of \"data.txt\""
   ]
  },
  {
   "cell_type": "code",
   "execution_count": 6,
   "metadata": {},
   "outputs": [
    {
     "name": "stdout",
     "output_type": "stream",
     "text": [
      "This is the write command .... and this is overwrite for previous data\n"
     ]
    }
   ],
   "source": [
    "# after write command we check to use read command\n",
    "\n",
    "file1=open('data.txt','r')\n",
    "for content in file1:\n",
    "    print(content)"
   ]
  },
  {
   "cell_type": "markdown",
   "metadata": {},
   "source": [
    "### Append command"
   ]
  },
  {
   "cell_type": "code",
   "execution_count": 7,
   "metadata": {},
   "outputs": [],
   "source": [
    "file2=open('data.txt','a')\n",
    "w=file2.write(\"  A new content is added to this file\") # here append have also used write method\n",
    "file2.close()\n",
    "\n",
    "# open data.txt file for update"
   ]
  },
  {
   "cell_type": "code",
   "execution_count": 8,
   "metadata": {},
   "outputs": [
    {
     "name": "stdout",
     "output_type": "stream",
     "text": [
      "This is the write command .... and this is overwrite for previous data  A new content is added to this file\n"
     ]
    }
   ],
   "source": [
    "a=open('data.txt','r')\n",
    "for word in a:\n",
    "    print(word)"
   ]
  },
  {
   "cell_type": "code",
   "execution_count": 9,
   "metadata": {},
   "outputs": [
    {
     "name": "stdout",
     "output_type": "stream",
     "text": [
      "['This', 'is', 'the', 'write', 'command', '....', 'and', 'this', 'is', 'overwrite', 'for', 'previous', 'data', 'A', 'new', 'content', 'is', 'added', 'to', 'this', 'file']\n"
     ]
    }
   ],
   "source": [
    "with open('data.txt') as filename:\n",
    "    mydata=filename.readlines()\n",
    "    for line in mydata:\n",
    "        word=line.split()\n",
    "        print(word)             #splitlines : here we didnt use split line it takes only one word"
   ]
  },
  {
   "cell_type": "code",
   "execution_count": 10,
   "metadata": {},
   "outputs": [
    {
     "name": "stdout",
     "output_type": "stream",
     "text": [
      "characters are 107\n",
      "wordcount 21\n",
      "linecount 1\n"
     ]
    }
   ],
   "source": [
    "# Data processing\n",
    "# no.of characters, words and lines\n",
    "\n",
    "dt1=open('data.txt','r')\n",
    "c=dt1.read()\n",
    "\n",
    "ch_co=0\n",
    "for ch in c:\n",
    "    ch_co+=1\n",
    "print(\"characters are\" ,ch_co)\n",
    "\n",
    "word_co=0\n",
    "for word in c.split():\n",
    "    word_co+=1\n",
    "print(\"wordcount\",word_co)\n",
    "\n",
    "line_co=0\n",
    "for line in c.split('\\n'):\n",
    "    line_co+=1\n",
    "print(\"linecount\",line_co)"
   ]
  },
  {
   "cell_type": "code",
   "execution_count": 11,
   "metadata": {},
   "outputs": [
    {
     "ename": "NameError",
     "evalue": "name 'dt' is not defined",
     "output_type": "error",
     "traceback": [
      "\u001b[1;31m---------------------------------------------------------------------------\u001b[0m",
      "\u001b[1;31mNameError\u001b[0m                                 Traceback (most recent call last)",
      "\u001b[1;32m<ipython-input-11-bd1b067c3957>\u001b[0m in \u001b[0;36m<module>\u001b[1;34m\u001b[0m\n\u001b[1;32m----> 1\u001b[1;33m \u001b[0mdir\u001b[0m\u001b[1;33m(\u001b[0m\u001b[0mdt\u001b[0m\u001b[1;33m)\u001b[0m\u001b[1;33m\u001b[0m\u001b[1;33m\u001b[0m\u001b[0m\n\u001b[0m",
      "\u001b[1;31mNameError\u001b[0m: name 'dt' is not defined"
     ]
    }
   ],
   "source": [
    "dir(dt)"
   ]
  },
  {
   "cell_type": "code",
   "execution_count": null,
   "metadata": {},
   "outputs": [],
   "source": [
    "help(dt.readlines())"
   ]
  },
  {
   "cell_type": "code",
   "execution_count": null,
   "metadata": {},
   "outputs": [],
   "source": [
    "ch=open('data.txt','r')\n",
    "print(ch.readlines())"
   ]
  },
  {
   "cell_type": "code",
   "execution_count": null,
   "metadata": {},
   "outputs": [],
   "source": []
  },
  {
   "cell_type": "markdown",
   "metadata": {},
   "source": [
    "## List Comprehension"
   ]
  },
  {
   "cell_type": "markdown",
   "metadata": {},
   "source": [
    "\n",
    "\n",
    "* It as an elegant way to define and create lists in python\n",
    "* We can create them in a single line like mathematical statement\n",
    "* **Syntax:**\n",
    "* list[o/p var i/p seq and optional predicate part]"
   ]
  },
  {
   "cell_type": "code",
   "execution_count": null,
   "metadata": {},
   "outputs": [],
   "source": [
    "# With out using list comprehension\n",
    "\n",
    "st=input(\"enter  :\").split()  # Here split uses for retriving all the data into list\n",
    "li=[]\n",
    "for ch in st:\n",
    "    li.append(ch) \n",
    "print(li)\n",
    "print(type(li))"
   ]
  },
  {
   "cell_type": "code",
   "execution_count": null,
   "metadata": {},
   "outputs": [],
   "source": [
    "# Using list comprehension\n",
    "\n",
    "li=[ch for ch in input().split()]    # [ output   var input seq and optional predict part]\n",
    "print(li)"
   ]
  },
  {
   "cell_type": "code",
   "execution_count": null,
   "metadata": {},
   "outputs": [],
   "source": [
    "i=input().split()\n",
    "print(i)"
   ]
  },
  {
   "cell_type": "code",
   "execution_count": null,
   "metadata": {},
   "outputs": [],
   "source": [
    "n=int(input()) #with out using split it takes only one value\n",
    "\n",
    "count=0\n",
    "for i in range(1,n):\n",
    "    if n%i==0:\n",
    "         count+=i\n",
    "if count==n:\n",
    "    print(\"yes\")\n",
    "else:\n",
    "    print(\"no\")"
   ]
  },
  {
   "cell_type": "code",
   "execution_count": 14,
   "metadata": {},
   "outputs": [
    {
     "name": "stdout",
     "output_type": "stream",
     "text": [
      "\"hi\" hello\n"
     ]
    },
    {
     "ename": "TypeError",
     "evalue": "'list' object cannot be interpreted as an integer",
     "output_type": "error",
     "traceback": [
      "\u001b[1;31m---------------------------------------------------------------------------\u001b[0m",
      "\u001b[1;31mTypeError\u001b[0m                                 Traceback (most recent call last)",
      "\u001b[1;32m<ipython-input-14-b2b7ba93e2f0>\u001b[0m in \u001b[0;36m<module>\u001b[1;34m\u001b[0m\n\u001b[0;32m      2\u001b[0m \u001b[1;33m\u001b[0m\u001b[0m\n\u001b[0;32m      3\u001b[0m \u001b[0mcount\u001b[0m\u001b[1;33m=\u001b[0m\u001b[1;36m0\u001b[0m\u001b[1;33m\u001b[0m\u001b[1;33m\u001b[0m\u001b[0m\n\u001b[1;32m----> 4\u001b[1;33m \u001b[1;32mfor\u001b[0m \u001b[0mi\u001b[0m \u001b[1;32min\u001b[0m \u001b[0mrange\u001b[0m\u001b[1;33m(\u001b[0m\u001b[1;36m1\u001b[0m\u001b[1;33m,\u001b[0m\u001b[0mn\u001b[0m\u001b[1;33m)\u001b[0m\u001b[1;33m:\u001b[0m\u001b[1;33m\u001b[0m\u001b[1;33m\u001b[0m\u001b[0m\n\u001b[0m\u001b[0;32m      5\u001b[0m     \u001b[1;32mif\u001b[0m \u001b[0mn\u001b[0m\u001b[1;33m%\u001b[0m\u001b[0mi\u001b[0m\u001b[1;33m==\u001b[0m\u001b[1;36m0\u001b[0m\u001b[1;33m:\u001b[0m\u001b[1;33m\u001b[0m\u001b[1;33m\u001b[0m\u001b[0m\n\u001b[0;32m      6\u001b[0m          \u001b[0mcount\u001b[0m\u001b[1;33m+=\u001b[0m\u001b[0mi\u001b[0m\u001b[1;33m\u001b[0m\u001b[1;33m\u001b[0m\u001b[0m\n",
      "\u001b[1;31mTypeError\u001b[0m: 'list' object cannot be interpreted as an integer"
     ]
    }
   ],
   "source": []
  },
  {
   "cell_type": "code",
   "execution_count": null,
   "metadata": {},
   "outputs": [],
   "source": []
  }
 ],
 "metadata": {
  "kernelspec": {
   "display_name": "Python 3",
   "language": "python",
   "name": "python3"
  },
  "language_info": {
   "codemirror_mode": {
    "name": "ipython",
    "version": 3
   },
   "file_extension": ".py",
   "mimetype": "text/x-python",
   "name": "python",
   "nbconvert_exporter": "python",
   "pygments_lexer": "ipython3",
   "version": "3.7.3"
  }
 },
 "nbformat": 4,
 "nbformat_minor": 2
}
